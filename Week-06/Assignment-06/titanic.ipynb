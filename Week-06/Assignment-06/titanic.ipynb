{
 "cells": [
  {
   "cell_type": "code",
   "execution_count": null,
   "id": "4fc2c531",
   "metadata": {},
   "outputs": [],
   "source": [
    "import pandas as pd \n",
    "import seaborn as sns\n",
    "from sklearn.model_selection import train_test_split, GridSearchCV \n",
    "from sklearn.linear_model import LogisticRegression\n",
    "from sklearn.tree import DecisionTreeClassifier\n",
    "from sklearn.ensemble import RandomForestClassifier, GradientBoostingClassifier \n",
    "from sklearn.metrics import accuracy_score, precision_score, recall_score, f1_score"
   ]
  },
  {
   "cell_type": "code",
   "execution_count": 3,
   "id": "9b060033",
   "metadata": {},
   "outputs": [
    {
     "name": "stdout",
     "output_type": "stream",
     "text": [
      "Data loaded:  (891, 15)\n"
     ]
    }
   ],
   "source": [
    "data = sns.load_dataset('titanic')\n",
    "print(\"Data loaded: \", data.shape)"
   ]
  },
  {
   "cell_type": "code",
   "execution_count": 4,
   "id": "8f194e07",
   "metadata": {},
   "outputs": [
    {
     "data": {
      "text/html": [
       "<div>\n",
       "<style scoped>\n",
       "    .dataframe tbody tr th:only-of-type {\n",
       "        vertical-align: middle;\n",
       "    }\n",
       "\n",
       "    .dataframe tbody tr th {\n",
       "        vertical-align: top;\n",
       "    }\n",
       "\n",
       "    .dataframe thead th {\n",
       "        text-align: right;\n",
       "    }\n",
       "</style>\n",
       "<table border=\"1\" class=\"dataframe\">\n",
       "  <thead>\n",
       "    <tr style=\"text-align: right;\">\n",
       "      <th></th>\n",
       "      <th>survived</th>\n",
       "      <th>pclass</th>\n",
       "      <th>sex</th>\n",
       "      <th>age</th>\n",
       "      <th>sibsp</th>\n",
       "      <th>parch</th>\n",
       "      <th>fare</th>\n",
       "      <th>embarked</th>\n",
       "      <th>class</th>\n",
       "      <th>who</th>\n",
       "      <th>adult_male</th>\n",
       "      <th>deck</th>\n",
       "      <th>embark_town</th>\n",
       "      <th>alive</th>\n",
       "      <th>alone</th>\n",
       "    </tr>\n",
       "  </thead>\n",
       "  <tbody>\n",
       "    <tr>\n",
       "      <th>0</th>\n",
       "      <td>0</td>\n",
       "      <td>3</td>\n",
       "      <td>male</td>\n",
       "      <td>22.0</td>\n",
       "      <td>1</td>\n",
       "      <td>0</td>\n",
       "      <td>7.2500</td>\n",
       "      <td>S</td>\n",
       "      <td>Third</td>\n",
       "      <td>man</td>\n",
       "      <td>True</td>\n",
       "      <td>NaN</td>\n",
       "      <td>Southampton</td>\n",
       "      <td>no</td>\n",
       "      <td>False</td>\n",
       "    </tr>\n",
       "    <tr>\n",
       "      <th>1</th>\n",
       "      <td>1</td>\n",
       "      <td>1</td>\n",
       "      <td>female</td>\n",
       "      <td>38.0</td>\n",
       "      <td>1</td>\n",
       "      <td>0</td>\n",
       "      <td>71.2833</td>\n",
       "      <td>C</td>\n",
       "      <td>First</td>\n",
       "      <td>woman</td>\n",
       "      <td>False</td>\n",
       "      <td>C</td>\n",
       "      <td>Cherbourg</td>\n",
       "      <td>yes</td>\n",
       "      <td>False</td>\n",
       "    </tr>\n",
       "    <tr>\n",
       "      <th>2</th>\n",
       "      <td>1</td>\n",
       "      <td>3</td>\n",
       "      <td>female</td>\n",
       "      <td>26.0</td>\n",
       "      <td>0</td>\n",
       "      <td>0</td>\n",
       "      <td>7.9250</td>\n",
       "      <td>S</td>\n",
       "      <td>Third</td>\n",
       "      <td>woman</td>\n",
       "      <td>False</td>\n",
       "      <td>NaN</td>\n",
       "      <td>Southampton</td>\n",
       "      <td>yes</td>\n",
       "      <td>True</td>\n",
       "    </tr>\n",
       "    <tr>\n",
       "      <th>3</th>\n",
       "      <td>1</td>\n",
       "      <td>1</td>\n",
       "      <td>female</td>\n",
       "      <td>35.0</td>\n",
       "      <td>1</td>\n",
       "      <td>0</td>\n",
       "      <td>53.1000</td>\n",
       "      <td>S</td>\n",
       "      <td>First</td>\n",
       "      <td>woman</td>\n",
       "      <td>False</td>\n",
       "      <td>C</td>\n",
       "      <td>Southampton</td>\n",
       "      <td>yes</td>\n",
       "      <td>False</td>\n",
       "    </tr>\n",
       "    <tr>\n",
       "      <th>4</th>\n",
       "      <td>0</td>\n",
       "      <td>3</td>\n",
       "      <td>male</td>\n",
       "      <td>35.0</td>\n",
       "      <td>0</td>\n",
       "      <td>0</td>\n",
       "      <td>8.0500</td>\n",
       "      <td>S</td>\n",
       "      <td>Third</td>\n",
       "      <td>man</td>\n",
       "      <td>True</td>\n",
       "      <td>NaN</td>\n",
       "      <td>Southampton</td>\n",
       "      <td>no</td>\n",
       "      <td>True</td>\n",
       "    </tr>\n",
       "    <tr>\n",
       "      <th>...</th>\n",
       "      <td>...</td>\n",
       "      <td>...</td>\n",
       "      <td>...</td>\n",
       "      <td>...</td>\n",
       "      <td>...</td>\n",
       "      <td>...</td>\n",
       "      <td>...</td>\n",
       "      <td>...</td>\n",
       "      <td>...</td>\n",
       "      <td>...</td>\n",
       "      <td>...</td>\n",
       "      <td>...</td>\n",
       "      <td>...</td>\n",
       "      <td>...</td>\n",
       "      <td>...</td>\n",
       "    </tr>\n",
       "    <tr>\n",
       "      <th>886</th>\n",
       "      <td>0</td>\n",
       "      <td>2</td>\n",
       "      <td>male</td>\n",
       "      <td>27.0</td>\n",
       "      <td>0</td>\n",
       "      <td>0</td>\n",
       "      <td>13.0000</td>\n",
       "      <td>S</td>\n",
       "      <td>Second</td>\n",
       "      <td>man</td>\n",
       "      <td>True</td>\n",
       "      <td>NaN</td>\n",
       "      <td>Southampton</td>\n",
       "      <td>no</td>\n",
       "      <td>True</td>\n",
       "    </tr>\n",
       "    <tr>\n",
       "      <th>887</th>\n",
       "      <td>1</td>\n",
       "      <td>1</td>\n",
       "      <td>female</td>\n",
       "      <td>19.0</td>\n",
       "      <td>0</td>\n",
       "      <td>0</td>\n",
       "      <td>30.0000</td>\n",
       "      <td>S</td>\n",
       "      <td>First</td>\n",
       "      <td>woman</td>\n",
       "      <td>False</td>\n",
       "      <td>B</td>\n",
       "      <td>Southampton</td>\n",
       "      <td>yes</td>\n",
       "      <td>True</td>\n",
       "    </tr>\n",
       "    <tr>\n",
       "      <th>888</th>\n",
       "      <td>0</td>\n",
       "      <td>3</td>\n",
       "      <td>female</td>\n",
       "      <td>NaN</td>\n",
       "      <td>1</td>\n",
       "      <td>2</td>\n",
       "      <td>23.4500</td>\n",
       "      <td>S</td>\n",
       "      <td>Third</td>\n",
       "      <td>woman</td>\n",
       "      <td>False</td>\n",
       "      <td>NaN</td>\n",
       "      <td>Southampton</td>\n",
       "      <td>no</td>\n",
       "      <td>False</td>\n",
       "    </tr>\n",
       "    <tr>\n",
       "      <th>889</th>\n",
       "      <td>1</td>\n",
       "      <td>1</td>\n",
       "      <td>male</td>\n",
       "      <td>26.0</td>\n",
       "      <td>0</td>\n",
       "      <td>0</td>\n",
       "      <td>30.0000</td>\n",
       "      <td>C</td>\n",
       "      <td>First</td>\n",
       "      <td>man</td>\n",
       "      <td>True</td>\n",
       "      <td>C</td>\n",
       "      <td>Cherbourg</td>\n",
       "      <td>yes</td>\n",
       "      <td>True</td>\n",
       "    </tr>\n",
       "    <tr>\n",
       "      <th>890</th>\n",
       "      <td>0</td>\n",
       "      <td>3</td>\n",
       "      <td>male</td>\n",
       "      <td>32.0</td>\n",
       "      <td>0</td>\n",
       "      <td>0</td>\n",
       "      <td>7.7500</td>\n",
       "      <td>Q</td>\n",
       "      <td>Third</td>\n",
       "      <td>man</td>\n",
       "      <td>True</td>\n",
       "      <td>NaN</td>\n",
       "      <td>Queenstown</td>\n",
       "      <td>no</td>\n",
       "      <td>True</td>\n",
       "    </tr>\n",
       "  </tbody>\n",
       "</table>\n",
       "<p>891 rows × 15 columns</p>\n",
       "</div>"
      ],
      "text/plain": [
       "     survived  pclass     sex   age  sibsp  parch     fare embarked   class  \\\n",
       "0           0       3    male  22.0      1      0   7.2500        S   Third   \n",
       "1           1       1  female  38.0      1      0  71.2833        C   First   \n",
       "2           1       3  female  26.0      0      0   7.9250        S   Third   \n",
       "3           1       1  female  35.0      1      0  53.1000        S   First   \n",
       "4           0       3    male  35.0      0      0   8.0500        S   Third   \n",
       "..        ...     ...     ...   ...    ...    ...      ...      ...     ...   \n",
       "886         0       2    male  27.0      0      0  13.0000        S  Second   \n",
       "887         1       1  female  19.0      0      0  30.0000        S   First   \n",
       "888         0       3  female   NaN      1      2  23.4500        S   Third   \n",
       "889         1       1    male  26.0      0      0  30.0000        C   First   \n",
       "890         0       3    male  32.0      0      0   7.7500        Q   Third   \n",
       "\n",
       "       who  adult_male deck  embark_town alive  alone  \n",
       "0      man        True  NaN  Southampton    no  False  \n",
       "1    woman       False    C    Cherbourg   yes  False  \n",
       "2    woman       False  NaN  Southampton   yes   True  \n",
       "3    woman       False    C  Southampton   yes  False  \n",
       "4      man        True  NaN  Southampton    no   True  \n",
       "..     ...         ...  ...          ...   ...    ...  \n",
       "886    man        True  NaN  Southampton    no   True  \n",
       "887  woman       False    B  Southampton   yes   True  \n",
       "888  woman       False  NaN  Southampton    no  False  \n",
       "889    man        True    C    Cherbourg   yes   True  \n",
       "890    man        True  NaN   Queenstown    no   True  \n",
       "\n",
       "[891 rows x 15 columns]"
      ]
     },
     "execution_count": 4,
     "metadata": {},
     "output_type": "execute_result"
    }
   ],
   "source": [
    "data"
   ]
  },
  {
   "cell_type": "code",
   "execution_count": 5,
   "id": "44330687",
   "metadata": {},
   "outputs": [
    {
     "name": "stdout",
     "output_type": "stream",
     "text": [
      "Selected columns:  ['pclass', 'sex', 'age', 'sibsp', 'parch', 'fare', 'embarked', 'survived']\n"
     ]
    }
   ],
   "source": [
    "cols = ['pclass', 'sex', 'age', 'sibsp', 'parch', 'fare', 'embarked', 'survived']\n",
    "df = data[cols].copy()\n",
    "print(\"Selected columns: \", df.columns.tolist())"
   ]
  },
  {
   "cell_type": "code",
   "execution_count": 6,
   "id": "c8435c48",
   "metadata": {},
   "outputs": [
    {
     "name": "stdout",
     "output_type": "stream",
     "text": [
      "Handling missing numeric values:-\n",
      "Filling missing in age with median 28.0\n",
      "Filling missing in fare with median 14.4542\n"
     ]
    }
   ],
   "source": [
    "print(\"Handling missing numeric values:-\")\n",
    "for col in ['age', 'fare']:\n",
    "    median_value = df[col].median()\n",
    "    print(f\"Filling missing in {col} with median {median_value}\")\n",
    "    df[col] = df[col].fillna(median_value)"
   ]
  },
  {
   "cell_type": "code",
   "execution_count": 7,
   "id": "cc3c7f75",
   "metadata": {},
   "outputs": [
    {
     "name": "stdout",
     "output_type": "stream",
     "text": [
      "Handling missing categorical values for embarked:-\n",
      "Filling missing embarked with mode 'S'\n"
     ]
    }
   ],
   "source": [
    "print(\"Handling missing categorical values for embarked:-\")\n",
    "mode_value = df['embarked'].mode()[0]\n",
    "print(f\"Filling missing embarked with mode '{mode_value}'\")\n",
    "df['embarked'] = df['embarked'].fillna(mode_value)"
   ]
  },
  {
   "cell_type": "code",
   "execution_count": 8,
   "id": "33cbea51",
   "metadata": {},
   "outputs": [
    {
     "name": "stdout",
     "output_type": "stream",
     "text": [
      "Encoding categorical variables:-\n",
      "New columns after encoding:  ['pclass', 'age', 'sibsp', 'parch', 'fare', 'survived', 'sex_male', 'embarked_Q', 'embarked_S']\n"
     ]
    }
   ],
   "source": [
    "print(\"Encoding categorical variables:-\")\n",
    "df = pd.get_dummies(df, columns=['sex', 'embarked'], drop_first=True)\n",
    "print(\"New columns after encoding: \", df.columns.tolist())"
   ]
  },
  {
   "cell_type": "code",
   "execution_count": 9,
   "id": "518dd9f2",
   "metadata": {},
   "outputs": [
    {
     "name": "stdout",
     "output_type": "stream",
     "text": [
      "Feature shape:  (891, 8) ; Target shape:  (891,)\n"
     ]
    }
   ],
   "source": [
    "y = df['survived']\n",
    "X = df.drop('survived', axis=1)\n",
    "print(\"Feature shape: \", X.shape, \"; Target shape: \", y.shape)"
   ]
  },
  {
   "cell_type": "code",
   "execution_count": 10,
   "id": "674c762b",
   "metadata": {},
   "outputs": [
    {
     "name": "stdout",
     "output_type": "stream",
     "text": [
      "Splitting into train and test sets:-\n",
      "Training set size:  (712, 8)\n",
      "Test set size:  (179, 8)\n"
     ]
    }
   ],
   "source": [
    "print(\"Splitting into train and test sets:-\")\n",
    "X_train, X_test, y_train, y_test = train_test_split(\n",
    "    X, y, test_size=0.2, random_state=0\n",
    ")\n",
    "print(\"Training set size: \", X_train.shape)\n",
    "print(\"Test set size: \", X_test.shape)"
   ]
  },
  {
   "cell_type": "code",
   "execution_count": 11,
   "id": "37b850e1",
   "metadata": {},
   "outputs": [
    {
     "name": "stdout",
     "output_type": "stream",
     "text": [
      "Defining models and parameter grids ->\n",
      "Logistic Regression params:  {'C': [0.1, 1, 10]}\n",
      "Decision Tree params:  {'max_depth': [None, 3, 5]}\n",
      "Random Forest params:  {'n_estimators': [50, 100]}\n",
      "Gradient Boosting params:  {'n_estimators': [50, 100], 'learning_rate': [0.05, 0.1]}\n"
     ]
    }
   ],
   "source": [
    "def get_models_and_params():\n",
    "    print(\"Defining models and parameter grids ->\")\n",
    "    models = {}\n",
    "\n",
    "    # Logistic Regression\n",
    "    lr = LogisticRegression(max_iter=500)\n",
    "    lr_params = {'C': [0.1, 1, 10]}\n",
    "    print(\"Logistic Regression params: \", lr_params)\n",
    "    models['Logistic Regression'] = (lr, lr_params)\n",
    "\n",
    "    # Decision Tree\n",
    "    dt = DecisionTreeClassifier()\n",
    "    dt_params = {'max_depth': [None, 3, 5]}\n",
    "    print(\"Decision Tree params: \", dt_params)\n",
    "    models['Decision Tree'] = (dt, dt_params)\n",
    "\n",
    "    # Random Forest\n",
    "    rf = RandomForestClassifier()\n",
    "    rf_params = {'n_estimators': [50, 100]}\n",
    "    print(\"Random Forest params: \", rf_params)\n",
    "    models['Random Forest'] = (rf, rf_params)\n",
    "\n",
    "    # Gradient Boosting\n",
    "    gb = GradientBoostingClassifier()\n",
    "    gb_params = {'n_estimators': [50, 100], 'learning_rate': [0.05, 0.1]}\n",
    "    print(\"Gradient Boosting params: \", gb_params)\n",
    "    models['Gradient Boosting'] = (gb, gb_params)\n",
    "\n",
    "    return models\n",
    "\n",
    "models = get_models_and_params()\n",
    "results = []"
   ]
  },
  {
   "cell_type": "code",
   "execution_count": 12,
   "id": "89085ff9",
   "metadata": {},
   "outputs": [
    {
     "name": "stdout",
     "output_type": "stream",
     "text": [
      "Starting training and evaluation-->\n",
      "\n",
      "Processing model: Logistic Regression\n",
      "  Using GridSearchCV for tuning\n",
      "  Best params for Logistic Regression: {'C': 0.1}\n",
      "  Metrics — Accuracy: 0.81, Precision: 0.76, Recall: 0.74, F1: 0.75\n",
      "\n",
      "Processing model: Decision Tree\n",
      "  Using GridSearchCV for tuning\n",
      "  Best params for Decision Tree: {'max_depth': 5}\n",
      "  Metrics — Accuracy: 0.82, Precision: 0.81, Recall: 0.68, F1: 0.74\n",
      "\n",
      "Processing model: Random Forest\n",
      "  Using GridSearchCV for tuning\n",
      "  Best params for Random Forest: {'n_estimators': 50}\n",
      "  Metrics — Accuracy: 0.84, Precision: 0.81, Recall: 0.75, F1: 0.78\n",
      "\n",
      "Processing model: Gradient Boosting\n",
      "  Using GridSearchCV for tuning\n",
      "  Best params for Gradient Boosting: {'learning_rate': 0.1, 'n_estimators': 100}\n",
      "  Metrics — Accuracy: 0.84, Precision: 0.90, Recall: 0.67, F1: 0.77\n"
     ]
    }
   ],
   "source": [
    "print(\"Starting training and evaluation-->\")\n",
    "auto_tune = True  # set True to use GridSearchCV\n",
    "for name, (model, params) in models.items():\n",
    "    print(f\"\\nProcessing model: {name}\")\n",
    "\n",
    "    if auto_tune:\n",
    "        print(\"  Using GridSearchCV for tuning\")\n",
    "        grid = GridSearchCV(model, params, cv=5)\n",
    "        grid.fit(X_train, y_train)\n",
    "        best_model = grid.best_estimator_\n",
    "        print(f\"  Best params for {name}: {grid.best_params_}\")\n",
    "    else:\n",
    "        print(\"  Fitting default model (no tuning)\")\n",
    "        best_model = model.fit(X_train, y_train)\n",
    "\n",
    "    # Predictions\n",
    "    preds = best_model.predict(X_test)\n",
    "\n",
    "    # Compute metrics\n",
    "    acc = accuracy_score(y_test, preds)\n",
    "    prec = precision_score(y_test, preds)\n",
    "    rec = recall_score(y_test, preds)\n",
    "    f1 = f1_score(y_test, preds)\n",
    "    print(f\"  Metrics — Accuracy: {acc:.2f}, Precision: {prec:.2f}, Recall: {rec:.2f}, F1: {f1:.2f}\")\n",
    "\n",
    "    # Append to results\n",
    "    results.append({\n",
    "        'Model': name,\n",
    "        'Accuracy': round(acc, 2),\n",
    "        'Precision': round(prec, 2),\n",
    "        'Recall': round(rec, 2),\n",
    "        'F1 Score': round(f1, 2)\n",
    "    })"
   ]
  },
  {
   "cell_type": "code",
   "execution_count": 13,
   "id": "b10ea4b8",
   "metadata": {},
   "outputs": [
    {
     "name": "stdout",
     "output_type": "stream",
     "text": [
      "\n",
      "Model Evaluation Summary:\n",
      "                 Model  Accuracy  Precision  Recall  F1 Score\n",
      "0  Logistic Regression      0.81       0.76    0.74      0.75\n",
      "1        Decision Tree      0.82       0.81    0.68      0.74\n",
      "2        Random Forest      0.84       0.81    0.75      0.78\n",
      "3    Gradient Boosting      0.84       0.90    0.67      0.77\n"
     ]
    }
   ],
   "source": [
    "print(\"\\nModel Evaluation Summary:\")\n",
    "print(pd.DataFrame(results))"
   ]
  }
 ],
 "metadata": {
  "kernelspec": {
   "display_name": "Python 3",
   "language": "python",
   "name": "python3"
  },
  "language_info": {
   "codemirror_mode": {
    "name": "ipython",
    "version": 3
   },
   "file_extension": ".py",
   "mimetype": "text/x-python",
   "name": "python",
   "nbconvert_exporter": "python",
   "pygments_lexer": "ipython3",
   "version": "3.11.9"
  }
 },
 "nbformat": 4,
 "nbformat_minor": 5
}
